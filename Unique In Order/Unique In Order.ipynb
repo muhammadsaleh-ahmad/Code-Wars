{
 "cells": [
  {
   "cell_type": "code",
   "execution_count": 103,
   "metadata": {},
   "outputs": [],
   "source": [
    "\n",
    "def unique_in_order(iterable):\n",
    "    s=[]\n",
    "    d=[]\n",
    "    for c in iterable:\n",
    "        s.append(c)\n",
    "    if len(s) < 2:\n",
    "        return s\n",
    "    \n",
    "    else:\n",
    "        \n",
    "        for x in range(len(s)-1):\n",
    "            if s[x]==s[x+1]:\n",
    "                pass\n",
    "            else:\n",
    "                d.append(s[x])\n",
    "        d.append(s[-1])\n",
    "        if len(d)>2 and d[-1]==d[-2]:\n",
    "            return d[::-1]\n",
    "        else:\n",
    "            return d\n"
   ]
  },
  {
   "cell_type": "code",
   "execution_count": 108,
   "metadata": {},
   "outputs": [
    {
     "data": {
      "text/plain": [
       "['a']"
      ]
     },
     "execution_count": 108,
     "metadata": {},
     "output_type": "execute_result"
    }
   ],
   "source": [
    "unique_in_order('aaaa')"
   ]
  },
  {
   "cell_type": "code",
   "execution_count": 109,
   "metadata": {},
   "outputs": [
    {
     "data": {
      "text/plain": [
       "['A', 'B', 'C', 'c', 'A', 'D']"
      ]
     },
     "execution_count": 109,
     "metadata": {},
     "output_type": "execute_result"
    }
   ],
   "source": [
    "unique_in_order('ABBCcAD')"
   ]
  },
  {
   "cell_type": "code",
   "execution_count": 110,
   "metadata": {},
   "outputs": [
    {
     "data": {
      "text/plain": [
       "[1, 2, 3]"
      ]
     },
     "execution_count": 110,
     "metadata": {},
     "output_type": "execute_result"
    }
   ],
   "source": [
    "unique_in_order([1,2,2,3,3])"
   ]
  },
  {
   "cell_type": "code",
   "execution_count": null,
   "metadata": {},
   "outputs": [],
   "source": []
  },
  {
   "cell_type": "code",
   "execution_count": 107,
   "metadata": {},
   "outputs": [],
   "source": [
    "def unique_in_order(iterable):\n",
    "    prev = None\n",
    "    ret = []\n",
    "    for i in iterable:\n",
    "        if i != prev:\n",
    "            prev = i\n",
    "            ret.append(i)\n",
    "    return ret"
   ]
  }
 ],
 "metadata": {
  "kernelspec": {
   "display_name": "Python 3",
   "language": "python",
   "name": "python3"
  },
  "language_info": {
   "codemirror_mode": {
    "name": "ipython",
    "version": 3
   },
   "file_extension": ".py",
   "mimetype": "text/x-python",
   "name": "python",
   "nbconvert_exporter": "python",
   "pygments_lexer": "ipython3",
   "version": "3.7.4"
  }
 },
 "nbformat": 4,
 "nbformat_minor": 2
}
